{
  "nbformat": 4,
  "nbformat_minor": 0,
  "metadata": {
    "colab": {
      "name": "cifar10_keras.ipynb",
      "provenance": [],
      "collapsed_sections": []
    },
    "kernelspec": {
      "display_name": "Python 3",
      "name": "python3"
    }
  },
  "cells": [
    {
      "cell_type": "code",
      "metadata": {
        "id": "56FYxuO2EZOL"
      },
      "source": [
        "import numpy\n",
        "from keras.models import Sequential\n",
        "from keras.layers import Dense,Dropout,Flatten,Conv2D,MaxPooling2D"
      ],
      "execution_count": null,
      "outputs": []
    },
    {
      "cell_type": "code",
      "metadata": {
        "colab": {
          "base_uri": "https://localhost:8080/"
        },
        "id": "HDZFQg0DE0Cp",
        "outputId": "6caf3a18-2cc1-495d-a321-3d0acd569f2d"
      },
      "source": [
        "from keras.datasets import cifar10\n",
        "# let's load data \n",
        "(X_train, y_train), (X_test, y_test) = cifar10.load_data()"
      ],
      "execution_count": null,
      "outputs": [
        {
          "output_type": "stream",
          "text": [
            "Downloading data from https://www.cs.toronto.edu/~kriz/cifar-10-python.tar.gz\n",
            "170500096/170498071 [==============================] - 2s 0us/step\n"
          ],
          "name": "stdout"
        }
      ]
    },
    {
      "cell_type": "code",
      "metadata": {
        "id": "Ps_W2bywE9r6"
      },
      "source": [
        "#normalizing inputs from 0-255 to 0.0-1.0 \n",
        "X_train = X_train.astype('float32') \n",
        "X_test = X_test.astype('float32') \n",
        "X_train = X_train / 255.0 \n",
        "X_test = X_test / 255.0"
      ],
      "execution_count": null,
      "outputs": []
    },
    {
      "cell_type": "code",
      "metadata": {
        "colab": {
          "base_uri": "https://localhost:8080/"
        },
        "id": "zLXbAntYFHYN",
        "outputId": "7083cd20-af48-4628-91d6-94b24e4ea9a5"
      },
      "source": [
        "X_train.shape, X_test.shape, y_train.shape, y_test.shape"
      ],
      "execution_count": null,
      "outputs": [
        {
          "output_type": "execute_result",
          "data": {
            "text/plain": [
              "((50000, 32, 32, 3), (10000, 32, 32, 3), (50000, 1), (10000, 1))"
            ]
          },
          "metadata": {
            "tags": []
          },
          "execution_count": 4
        }
      ]
    },
    {
      "cell_type": "code",
      "metadata": {
        "id": "IqmKoMocF2MP"
      },
      "source": [
        "# one hot encode outputs \n",
        "from keras.utils import np_utils \n",
        "\n",
        "y_train = np_utils.to_categorical(y_train) \n",
        "y_test = np_utils.to_categorical(y_test) \n",
        "num_classes = y_test.shape[1]"
      ],
      "execution_count": null,
      "outputs": []
    },
    {
      "cell_type": "code",
      "metadata": {
        "id": "1ZOmjrlXGXma"
      },
      "source": [
        "import keras\n",
        "from keras.constraints import maxnorm\n",
        "from keras.optimizers import SGD\n",
        "from keras import backend as K "
      ],
      "execution_count": null,
      "outputs": []
    },
    {
      "cell_type": "code",
      "metadata": {
        "id": "RkU4-HA6F76J"
      },
      "source": [
        "model = Sequential()\n",
        "\n",
        "# 2D concolutional layer.32 == filters needed.(an array of numeric values). (3,3)==size of the filter(3 r, 3 c)\n",
        "# 32,32,3 - shape of data-h,w,rgb values(depth/intensity)\n",
        "# relu activation replaces -ve pixel values with 0s.\n",
        "model.add(Conv2D(32, (3, 3), input_shape=(32,32,3), activation='relu', padding='same'))  #output=feature maps\n",
        "# dropout used to prevent overfitting\n",
        "model.add(Dropout(0.2)) \n",
        "model.add(Conv2D(32, (3, 3), activation='relu', padding='same')) \n",
        "model.add(MaxPooling2D(pool_size=(2, 2))) \n",
        "# maxpooling==dim reduction - while retaining most important features\n",
        "model.add(Conv2D(64, (3, 3), activation='relu', padding='same')) \n",
        "model.add(Dropout(0.2)) \n",
        "model.add(Conv2D(64, (3, 3), activation='relu', padding='same')) \n",
        "model.add(MaxPooling2D(pool_size=(2, 2))) \n",
        "model.add(Conv2D(128, (3, 3), activation='relu', padding='same')) \n",
        "model.add(Dropout(0.2)) \n",
        "model.add(Conv2D(128, (3, 3), activation='relu', padding='same')) \n",
        "model.add(MaxPooling2D(pool_size=(2, 2))) \n",
        "# flatten used to convert feature map to 1D.\n",
        "model.add(Flatten())\n",
        "model.add(Dropout(0.2)) \n",
        "model.add(Dense(1024, activation='relu', kernel_constraint=maxnorm(3))) \n",
        "model.add(Dropout(0.2)) \n",
        "model.add(Dense(512, activation='relu', kernel_constraint=maxnorm(3))) \n",
        "model.add(Dropout(0.2)) \n",
        "# softmax used - multiclass classification\n",
        "model.add(Dense(num_classes, activation='softmax'))"
      ],
      "execution_count": null,
      "outputs": []
    },
    {
      "cell_type": "code",
      "metadata": {
        "colab": {
          "base_uri": "https://localhost:8080/"
        },
        "id": "dQh8vCx6JHwE",
        "outputId": "9fc017c6-6e99-43b1-e4d1-abbc92aeb168"
      },
      "source": [
        "model.summary()"
      ],
      "execution_count": null,
      "outputs": [
        {
          "output_type": "stream",
          "text": [
            "Model: \"sequential\"\n",
            "_________________________________________________________________\n",
            "Layer (type)                 Output Shape              Param #   \n",
            "=================================================================\n",
            "conv2d (Conv2D)              (None, 32, 32, 32)        896       \n",
            "_________________________________________________________________\n",
            "dropout (Dropout)            (None, 32, 32, 32)        0         \n",
            "_________________________________________________________________\n",
            "conv2d_1 (Conv2D)            (None, 32, 32, 32)        9248      \n",
            "_________________________________________________________________\n",
            "max_pooling2d (MaxPooling2D) (None, 16, 16, 32)        0         \n",
            "_________________________________________________________________\n",
            "conv2d_2 (Conv2D)            (None, 16, 16, 64)        18496     \n",
            "_________________________________________________________________\n",
            "dropout_1 (Dropout)          (None, 16, 16, 64)        0         \n",
            "_________________________________________________________________\n",
            "conv2d_3 (Conv2D)            (None, 16, 16, 64)        36928     \n",
            "_________________________________________________________________\n",
            "max_pooling2d_1 (MaxPooling2 (None, 8, 8, 64)          0         \n",
            "_________________________________________________________________\n",
            "conv2d_4 (Conv2D)            (None, 8, 8, 128)         73856     \n",
            "_________________________________________________________________\n",
            "dropout_2 (Dropout)          (None, 8, 8, 128)         0         \n",
            "_________________________________________________________________\n",
            "conv2d_5 (Conv2D)            (None, 8, 8, 128)         147584    \n",
            "_________________________________________________________________\n",
            "max_pooling2d_2 (MaxPooling2 (None, 4, 4, 128)         0         \n",
            "_________________________________________________________________\n",
            "flatten (Flatten)            (None, 2048)              0         \n",
            "_________________________________________________________________\n",
            "dropout_3 (Dropout)          (None, 2048)              0         \n",
            "_________________________________________________________________\n",
            "dense (Dense)                (None, 1024)              2098176   \n",
            "_________________________________________________________________\n",
            "dropout_4 (Dropout)          (None, 1024)              0         \n",
            "_________________________________________________________________\n",
            "dense_1 (Dense)              (None, 512)               524800    \n",
            "_________________________________________________________________\n",
            "dropout_5 (Dropout)          (None, 512)               0         \n",
            "_________________________________________________________________\n",
            "dense_2 (Dense)              (None, 10)                5130      \n",
            "=================================================================\n",
            "Total params: 2,915,114\n",
            "Trainable params: 2,915,114\n",
            "Non-trainable params: 0\n",
            "_________________________________________________________________\n"
          ],
          "name": "stdout"
        }
      ]
    },
    {
      "cell_type": "code",
      "metadata": {
        "id": "AIAarwXyLajr"
      },
      "source": [
        "# model compilation\n",
        "learning_rate = 0.01\n",
        "epochs = 50 # we want a high quality model \n",
        "decay = learning_rate/epochs \n",
        "sgd = SGD(lr=learning_rate, momentum=0.9, decay=decay, nesterov=False) #optimisation function - stochastic gradient descent\n",
        "model.compile(loss='categorical_crossentropy', optimizer=sgd, metrics=['accuracy'])"
      ],
      "execution_count": null,
      "outputs": []
    },
    {
      "cell_type": "code",
      "metadata": {
        "colab": {
          "background_save": true,
          "base_uri": "https://localhost:8080/"
        },
        "id": "tKiTNCH6L6Jc",
        "outputId": "303e46bd-0666-4ebb-fc32-79d1d4308eed"
      },
      "source": [
        "# model training\n",
        "model.fit(X_train, y_train, validation_data=(X_test, y_test), epochs=epochs, batch_size=32) "
      ],
      "execution_count": null,
      "outputs": [
        {
          "output_type": "stream",
          "text": [
            "Epoch 1/50\n",
            "1563/1563 [==============================] - 473s 303ms/step - loss: 1.8525 - accuracy: 0.3158 - val_loss: 1.4747 - val_accuracy: 0.4601\n",
            "Epoch 2/50\n",
            "1563/1563 [==============================] - 474s 303ms/step - loss: 1.4178 - accuracy: 0.4814 - val_loss: 1.2903 - val_accuracy: 0.5312\n",
            "Epoch 3/50\n",
            "1563/1563 [==============================] - 483s 309ms/step - loss: 1.2112 - accuracy: 0.5636 - val_loss: 1.1237 - val_accuracy: 0.5953\n",
            "Epoch 4/50\n",
            "1563/1563 [==============================] - 477s 305ms/step - loss: 1.0450 - accuracy: 0.6257 - val_loss: 0.9380 - val_accuracy: 0.6688\n",
            "Epoch 5/50\n",
            "1563/1563 [==============================] - 477s 305ms/step - loss: 0.9106 - accuracy: 0.6765 - val_loss: 0.8798 - val_accuracy: 0.6874\n",
            "Epoch 6/50\n",
            "1563/1563 [==============================] - 479s 306ms/step - loss: 0.8177 - accuracy: 0.7116 - val_loss: 0.7810 - val_accuracy: 0.7263\n",
            "Epoch 7/50\n",
            "1563/1563 [==============================] - 476s 304ms/step - loss: 0.7403 - accuracy: 0.7387 - val_loss: 0.7561 - val_accuracy: 0.7393\n",
            "Epoch 8/50\n",
            "1563/1563 [==============================] - 475s 304ms/step - loss: 0.6763 - accuracy: 0.7613 - val_loss: 0.7011 - val_accuracy: 0.7612\n",
            "Epoch 9/50\n",
            "1563/1563 [==============================] - 474s 303ms/step - loss: 0.6259 - accuracy: 0.7788 - val_loss: 0.6770 - val_accuracy: 0.7667\n",
            "Epoch 10/50\n",
            "1563/1563 [==============================] - 484s 309ms/step - loss: 0.5778 - accuracy: 0.7938 - val_loss: 0.6505 - val_accuracy: 0.7754\n",
            "Epoch 11/50\n",
            "1563/1563 [==============================] - 487s 312ms/step - loss: 0.5388 - accuracy: 0.8073 - val_loss: 0.6378 - val_accuracy: 0.7796\n",
            "Epoch 12/50\n",
            "1563/1563 [==============================] - 476s 305ms/step - loss: 0.4997 - accuracy: 0.8214 - val_loss: 0.6246 - val_accuracy: 0.7867\n",
            "Epoch 13/50\n",
            "1563/1563 [==============================] - 474s 304ms/step - loss: 0.4612 - accuracy: 0.8372 - val_loss: 0.6244 - val_accuracy: 0.7892\n",
            "Epoch 14/50\n",
            "1563/1563 [==============================] - 475s 304ms/step - loss: 0.4317 - accuracy: 0.8453 - val_loss: 0.6299 - val_accuracy: 0.7859\n",
            "Epoch 15/50\n",
            "1563/1563 [==============================] - 468s 299ms/step - loss: 0.4122 - accuracy: 0.8539 - val_loss: 0.6224 - val_accuracy: 0.7912\n",
            "Epoch 16/50\n",
            "1563/1563 [==============================] - 447s 286ms/step - loss: 0.3818 - accuracy: 0.8625 - val_loss: 0.6239 - val_accuracy: 0.7948\n",
            "Epoch 17/50\n",
            "1563/1563 [==============================] - 448s 287ms/step - loss: 0.3580 - accuracy: 0.8724 - val_loss: 0.6155 - val_accuracy: 0.7962\n",
            "Epoch 18/50\n",
            "1563/1563 [==============================] - 458s 293ms/step - loss: 0.3375 - accuracy: 0.8793 - val_loss: 0.6276 - val_accuracy: 0.8034\n",
            "Epoch 19/50\n",
            "1563/1563 [==============================] - 450s 288ms/step - loss: 0.3185 - accuracy: 0.8851 - val_loss: 0.6336 - val_accuracy: 0.7996\n",
            "Epoch 20/50\n",
            "1563/1563 [==============================] - 468s 299ms/step - loss: 0.2958 - accuracy: 0.8920 - val_loss: 0.6299 - val_accuracy: 0.8051\n",
            "Epoch 21/50\n",
            "1563/1563 [==============================] - 465s 297ms/step - loss: 0.2800 - accuracy: 0.9004 - val_loss: 0.6276 - val_accuracy: 0.8060\n",
            "Epoch 22/50\n",
            "1563/1563 [==============================] - 458s 293ms/step - loss: 0.2659 - accuracy: 0.9046 - val_loss: 0.6330 - val_accuracy: 0.8046\n",
            "Epoch 23/50\n",
            "1563/1563 [==============================] - 472s 302ms/step - loss: 0.2513 - accuracy: 0.9101 - val_loss: 0.6430 - val_accuracy: 0.8056\n",
            "Epoch 24/50\n",
            "1563/1563 [==============================] - 476s 305ms/step - loss: 0.2335 - accuracy: 0.9170 - val_loss: 0.6529 - val_accuracy: 0.8036\n",
            "Epoch 25/50\n",
            "1563/1563 [==============================] - 480s 307ms/step - loss: 0.2226 - accuracy: 0.9209 - val_loss: 0.6539 - val_accuracy: 0.8027\n",
            "Epoch 26/50\n",
            "1563/1563 [==============================] - 481s 308ms/step - loss: 0.2126 - accuracy: 0.9236 - val_loss: 0.6526 - val_accuracy: 0.8060\n",
            "Epoch 27/50\n",
            "1563/1563 [==============================] - 477s 305ms/step - loss: 0.1991 - accuracy: 0.9280 - val_loss: 0.6872 - val_accuracy: 0.8066\n",
            "Epoch 28/50\n",
            "1563/1563 [==============================] - 475s 304ms/step - loss: 0.1917 - accuracy: 0.9310 - val_loss: 0.6842 - val_accuracy: 0.8064\n",
            "Epoch 29/50\n",
            "1563/1563 [==============================] - 474s 303ms/step - loss: 0.1847 - accuracy: 0.9329 - val_loss: 0.6743 - val_accuracy: 0.8074\n",
            "Epoch 30/50\n",
            "1563/1563 [==============================] - 492s 315ms/step - loss: 0.1762 - accuracy: 0.9363 - val_loss: 0.6952 - val_accuracy: 0.8080\n",
            "Epoch 31/50\n",
            "1563/1563 [==============================] - 491s 314ms/step - loss: 0.1688 - accuracy: 0.9390 - val_loss: 0.7003 - val_accuracy: 0.8061\n",
            "Epoch 32/50\n",
            "1563/1563 [==============================] - 481s 308ms/step - loss: 0.1591 - accuracy: 0.9426 - val_loss: 0.7030 - val_accuracy: 0.8088\n",
            "Epoch 33/50\n",
            "1563/1563 [==============================] - 480s 307ms/step - loss: 0.1562 - accuracy: 0.9456 - val_loss: 0.6821 - val_accuracy: 0.8110\n",
            "Epoch 34/50\n",
            "1563/1563 [==============================] - 476s 304ms/step - loss: 0.1469 - accuracy: 0.9478 - val_loss: 0.7087 - val_accuracy: 0.8097\n",
            "Epoch 35/50\n",
            "1563/1563 [==============================] - 473s 302ms/step - loss: 0.1416 - accuracy: 0.9502 - val_loss: 0.7045 - val_accuracy: 0.8121\n",
            "Epoch 36/50\n",
            "1563/1563 [==============================] - 485s 311ms/step - loss: 0.1398 - accuracy: 0.9511 - val_loss: 0.7247 - val_accuracy: 0.8146\n",
            "Epoch 37/50\n",
            "1563/1563 [==============================] - 477s 305ms/step - loss: 0.1333 - accuracy: 0.9514 - val_loss: 0.7178 - val_accuracy: 0.8141\n",
            "Epoch 38/50\n",
            "  78/1563 [>.............................] - ETA: 7:10 - loss: 0.1197 - accuracy: 0.9555Buffered data was truncated after reaching the output size limit."
          ],
          "name": "stdout"
        }
      ]
    },
    {
      "cell_type": "code",
      "metadata": {
        "colab": {
          "background_save": true
        },
        "id": "lUzFZQgudDF8",
        "outputId": "69cf1920-3ec4-499a-8d09-ac6d251d66a5"
      },
      "source": [
        "# Final evaluation of the model \n",
        "scores = model.evaluate(X_test, y_test, verbose=0) \n",
        "print(\"Accuracy: %.2f%%\" % (scores[1]*100))"
      ],
      "execution_count": null,
      "outputs": [
        {
          "output_type": "stream",
          "text": [
            "Accuracy: 81.26%\n"
          ],
          "name": "stdout"
        }
      ]
    }
  ]
}