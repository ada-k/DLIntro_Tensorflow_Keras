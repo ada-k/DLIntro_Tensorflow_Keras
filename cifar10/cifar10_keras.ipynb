{
  "nbformat": 4,
  "nbformat_minor": 0,
  "metadata": {
    "colab": {
      "name": "cifar10_keras.ipynb",
      "provenance": [],
      "collapsed_sections": []
    },
    "kernelspec": {
      "name": "python3",
      "display_name": "Python 3"
    }
  },
  "cells": [
    {
      "cell_type": "code",
      "metadata": {
        "id": "56FYxuO2EZOL"
      },
      "source": [
        "import numpy\n",
        "from keras.models import Sequential\n",
        "from keras.layers import Dense,Dropout,Flatten,Conv2D,MaxPooling2D"
      ],
      "execution_count": 1,
      "outputs": []
    },
    {
      "cell_type": "code",
      "metadata": {
        "colab": {
          "base_uri": "https://localhost:8080/"
        },
        "id": "HDZFQg0DE0Cp",
        "outputId": "6fbbda01-3d07-4031-92ca-b364debd0411"
      },
      "source": [
        "from keras.datasets import cifar10\n",
        "# let's load data \n",
        "(X_train, y_train), (X_test, y_test) = cifar10.load_data()"
      ],
      "execution_count": 2,
      "outputs": [
        {
          "output_type": "stream",
          "text": [
            "Downloading data from https://www.cs.toronto.edu/~kriz/cifar-10-python.tar.gz\n",
            "170500096/170498071 [==============================] - 2s 0us/step\n"
          ],
          "name": "stdout"
        }
      ]
    },
    {
      "cell_type": "code",
      "metadata": {
        "id": "Ps_W2bywE9r6"
      },
      "source": [
        "#normalizing inputs from 0-255 to 0.0-1.0 \n",
        "X_train = X_train.astype('float32') \n",
        "X_test = X_test.astype('float32') \n",
        "X_train = X_train / 255.0 \n",
        "X_test = X_test / 255.0"
      ],
      "execution_count": 3,
      "outputs": []
    },
    {
      "cell_type": "code",
      "metadata": {
        "colab": {
          "base_uri": "https://localhost:8080/"
        },
        "id": "zLXbAntYFHYN",
        "outputId": "aa6b3089-8eed-4ac4-fb23-181a79b9beb0"
      },
      "source": [
        "X_train.shape, X_test.shape, y_train.shape, y_test.shape"
      ],
      "execution_count": 4,
      "outputs": [
        {
          "output_type": "execute_result",
          "data": {
            "text/plain": [
              "((50000, 32, 32, 3), (10000, 32, 32, 3), (50000, 1), (10000, 1))"
            ]
          },
          "metadata": {
            "tags": []
          },
          "execution_count": 4
        }
      ]
    },
    {
      "cell_type": "code",
      "metadata": {
        "id": "IqmKoMocF2MP"
      },
      "source": [
        "# one hot encode outputs \n",
        "from keras.utils import np_utils \n",
        "\n",
        "y_train = np_utils.to_categorical(y_train) \n",
        "y_test = np_utils.to_categorical(y_test) \n",
        "num_classes = y_test.shape[1]"
      ],
      "execution_count": 5,
      "outputs": []
    },
    {
      "cell_type": "code",
      "metadata": {
        "id": "1ZOmjrlXGXma"
      },
      "source": [
        "import keras\n",
        "from keras.constraints import maxnorm\n",
        "from keras.optimizers import SGD\n",
        "from keras import backend as K "
      ],
      "execution_count": 6,
      "outputs": []
    },
    {
      "cell_type": "code",
      "metadata": {
        "id": "RkU4-HA6F76J"
      },
      "source": [
        "model = Sequential()\n",
        "\n",
        "# 2D concolutional layer.32 == filters needed.(an array of numeric values). (3,3)==size of the filter(3 r, 3 c)\n",
        "# 32,32,3 - shape of data-h,w,rgb values(depth/intensity)\n",
        "# relu activation replaces -ve pixel values with 0s.\n",
        "model.add(Conv2D(32, (3, 3), input_shape=(32,32,3), activation='relu', padding='same'))  #output=feature maps\n",
        "# dropout used to prevent overfitting\n",
        "model.add(Dropout(0.2)) \n",
        "model.add(Conv2D(32, (3, 3), activation='relu', padding='same')) \n",
        "model.add(MaxPooling2D(pool_size=(2, 2))) \n",
        "# maxpooling==dim reduction - while retaining most important features\n",
        "model.add(Conv2D(64, (3, 3), activation='relu', padding='same')) \n",
        "model.add(Dropout(0.2)) \n",
        "model.add(Conv2D(64, (3, 3), activation='relu', padding='same')) \n",
        "model.add(MaxPooling2D(pool_size=(2, 2))) \n",
        "model.add(Conv2D(128, (3, 3), activation='relu', padding='same')) \n",
        "model.add(Dropout(0.2)) \n",
        "model.add(Conv2D(128, (3, 3), activation='relu', padding='same')) \n",
        "model.add(MaxPooling2D(pool_size=(2, 2))) \n",
        "# flatten used to convert feature map to 1D.\n",
        "model.add(Flatten())\n",
        "model.add(Dropout(0.2)) \n",
        "model.add(Dense(1024, activation='relu', kernel_constraint=maxnorm(3))) \n",
        "model.add(Dropout(0.2)) \n",
        "model.add(Dense(512, activation='relu', kernel_constraint=maxnorm(3))) \n",
        "model.add(Dropout(0.2)) \n",
        "# softmax used - multiclass classification\n",
        "model.add(Dense(num_classes, activation='softmax'))"
      ],
      "execution_count": 7,
      "outputs": []
    },
    {
      "cell_type": "code",
      "metadata": {
        "colab": {
          "base_uri": "https://localhost:8080/"
        },
        "id": "dQh8vCx6JHwE",
        "outputId": "37b733ab-17b9-4737-edfe-438142b7a675"
      },
      "source": [
        "model.summary()"
      ],
      "execution_count": 8,
      "outputs": [
        {
          "output_type": "stream",
          "text": [
            "Model: \"sequential\"\n",
            "_________________________________________________________________\n",
            "Layer (type)                 Output Shape              Param #   \n",
            "=================================================================\n",
            "conv2d (Conv2D)              (None, 32, 32, 32)        896       \n",
            "_________________________________________________________________\n",
            "dropout (Dropout)            (None, 32, 32, 32)        0         \n",
            "_________________________________________________________________\n",
            "conv2d_1 (Conv2D)            (None, 32, 32, 32)        9248      \n",
            "_________________________________________________________________\n",
            "max_pooling2d (MaxPooling2D) (None, 16, 16, 32)        0         \n",
            "_________________________________________________________________\n",
            "conv2d_2 (Conv2D)            (None, 16, 16, 64)        18496     \n",
            "_________________________________________________________________\n",
            "dropout_1 (Dropout)          (None, 16, 16, 64)        0         \n",
            "_________________________________________________________________\n",
            "conv2d_3 (Conv2D)            (None, 16, 16, 64)        36928     \n",
            "_________________________________________________________________\n",
            "max_pooling2d_1 (MaxPooling2 (None, 8, 8, 64)          0         \n",
            "_________________________________________________________________\n",
            "conv2d_4 (Conv2D)            (None, 8, 8, 128)         73856     \n",
            "_________________________________________________________________\n",
            "dropout_2 (Dropout)          (None, 8, 8, 128)         0         \n",
            "_________________________________________________________________\n",
            "conv2d_5 (Conv2D)            (None, 8, 8, 128)         147584    \n",
            "_________________________________________________________________\n",
            "max_pooling2d_2 (MaxPooling2 (None, 4, 4, 128)         0         \n",
            "_________________________________________________________________\n",
            "flatten (Flatten)            (None, 2048)              0         \n",
            "_________________________________________________________________\n",
            "dropout_3 (Dropout)          (None, 2048)              0         \n",
            "_________________________________________________________________\n",
            "dense (Dense)                (None, 1024)              2098176   \n",
            "_________________________________________________________________\n",
            "dropout_4 (Dropout)          (None, 1024)              0         \n",
            "_________________________________________________________________\n",
            "dense_1 (Dense)              (None, 512)               524800    \n",
            "_________________________________________________________________\n",
            "dropout_5 (Dropout)          (None, 512)               0         \n",
            "_________________________________________________________________\n",
            "dense_2 (Dense)              (None, 10)                5130      \n",
            "=================================================================\n",
            "Total params: 2,915,114\n",
            "Trainable params: 2,915,114\n",
            "Non-trainable params: 0\n",
            "_________________________________________________________________\n"
          ],
          "name": "stdout"
        }
      ]
    },
    {
      "cell_type": "code",
      "metadata": {
        "id": "AIAarwXyLajr"
      },
      "source": [
        "# model compilation\n",
        "learning_rate = 0.01\n",
        "epochs = 50 # we want a high quality model \n",
        "decay = learning_rate/epochs \n",
        "sgd = SGD(lr=learning_rate, momentum=0.9, decay=decay, nesterov=False) #optimisation function - stochastic gradient descent\n",
        "model.compile(loss='categorical_crossentropy', optimizer=sgd, metrics=['accuracy'])"
      ],
      "execution_count": 9,
      "outputs": []
    },
    {
      "cell_type": "code",
      "metadata": {
        "colab": {
          "base_uri": "https://localhost:8080/"
        },
        "id": "tKiTNCH6L6Jc",
        "outputId": "b3dd84cc-2f8a-4f2a-f536-e4ee453ba3f2"
      },
      "source": [
        "# model training\n",
        "model.fit(X_train, y_train, validation_data=(X_test, y_test), epochs=epochs, batch_size=32) "
      ],
      "execution_count": null,
      "outputs": [
        {
          "output_type": "stream",
          "text": [
            "Epoch 1/50\n",
            "1563/1563 [==============================] - 445s 285ms/step - loss: 1.8494 - accuracy: 0.3181 - val_loss: 1.5454 - val_accuracy: 0.4361\n",
            "Epoch 2/50\n",
            "1563/1563 [==============================] - 449s 287ms/step - loss: 1.4230 - accuracy: 0.4830 - val_loss: 1.2618 - val_accuracy: 0.5440\n",
            "Epoch 3/50\n",
            "1563/1563 [==============================] - 448s 287ms/step - loss: 1.2208 - accuracy: 0.5586 - val_loss: 1.1460 - val_accuracy: 0.5877\n",
            "Epoch 4/50\n",
            "1563/1563 [==============================] - 444s 284ms/step - loss: 1.0606 - accuracy: 0.6231 - val_loss: 1.0308 - val_accuracy: 0.6394\n",
            "Epoch 5/50\n",
            "1563/1563 [==============================] - 447s 286ms/step - loss: 0.9396 - accuracy: 0.6675 - val_loss: 0.9365 - val_accuracy: 0.6679\n",
            "Epoch 6/50\n",
            "1563/1563 [==============================] - 444s 284ms/step - loss: 0.8435 - accuracy: 0.7010 - val_loss: 0.8294 - val_accuracy: 0.7123\n",
            "Epoch 7/50\n",
            "1563/1563 [==============================] - 444s 284ms/step - loss: 0.7622 - accuracy: 0.7321 - val_loss: 0.7725 - val_accuracy: 0.7314\n",
            "Epoch 8/50\n",
            "1563/1563 [==============================] - 444s 284ms/step - loss: 0.6989 - accuracy: 0.7520 - val_loss: 0.7414 - val_accuracy: 0.7465\n",
            "Epoch 9/50\n",
            "1563/1563 [==============================] - 445s 285ms/step - loss: 0.6501 - accuracy: 0.7699 - val_loss: 0.6876 - val_accuracy: 0.7621\n",
            "Epoch 10/50\n",
            "1563/1563 [==============================] - 450s 288ms/step - loss: 0.5982 - accuracy: 0.7887 - val_loss: 0.6775 - val_accuracy: 0.7693\n",
            "Epoch 11/50\n",
            "1563/1563 [==============================] - 450s 288ms/step - loss: 0.5560 - accuracy: 0.8030 - val_loss: 0.6709 - val_accuracy: 0.7700\n",
            "Epoch 12/50\n",
            "1563/1563 [==============================] - 447s 286ms/step - loss: 0.5211 - accuracy: 0.8152 - val_loss: 0.6460 - val_accuracy: 0.7805\n",
            "Epoch 13/50\n",
            "1563/1563 [==============================] - 448s 287ms/step - loss: 0.4873 - accuracy: 0.8258 - val_loss: 0.6363 - val_accuracy: 0.7832\n",
            "Epoch 14/50\n",
            "1563/1563 [==============================] - 450s 288ms/step - loss: 0.4535 - accuracy: 0.8393 - val_loss: 0.6420 - val_accuracy: 0.7825\n",
            "Epoch 15/50\n",
            "1563/1563 [==============================] - 449s 287ms/step - loss: 0.4263 - accuracy: 0.8480 - val_loss: 0.6258 - val_accuracy: 0.7899\n",
            "Epoch 16/50\n",
            "1563/1563 [==============================] - 446s 286ms/step - loss: 0.4005 - accuracy: 0.8570 - val_loss: 0.6229 - val_accuracy: 0.7975\n",
            "Epoch 17/50\n",
            "1563/1563 [==============================] - 446s 285ms/step - loss: 0.3779 - accuracy: 0.8649 - val_loss: 0.6300 - val_accuracy: 0.7902\n",
            "Epoch 18/50\n",
            "1563/1563 [==============================] - 446s 285ms/step - loss: 0.3558 - accuracy: 0.8720 - val_loss: 0.6420 - val_accuracy: 0.7927\n",
            "Epoch 19/50\n",
            "1563/1563 [==============================] - 447s 286ms/step - loss: 0.3341 - accuracy: 0.8813 - val_loss: 0.6351 - val_accuracy: 0.7970\n",
            "Epoch 20/50\n",
            "1563/1563 [==============================] - 448s 287ms/step - loss: 0.3130 - accuracy: 0.8864 - val_loss: 0.6263 - val_accuracy: 0.8026\n",
            "Epoch 21/50\n",
            "1563/1563 [==============================] - 446s 285ms/step - loss: 0.2962 - accuracy: 0.8932 - val_loss: 0.6299 - val_accuracy: 0.8012\n",
            "Epoch 22/50\n",
            "1563/1563 [==============================] - 448s 287ms/step - loss: 0.2846 - accuracy: 0.8993 - val_loss: 0.6390 - val_accuracy: 0.8001\n",
            "Epoch 23/50\n",
            "1563/1563 [==============================] - 452s 289ms/step - loss: 0.2689 - accuracy: 0.9030 - val_loss: 0.6297 - val_accuracy: 0.8019\n",
            "Epoch 24/50\n",
            "1563/1563 [==============================] - 451s 288ms/step - loss: 0.2568 - accuracy: 0.9066 - val_loss: 0.6178 - val_accuracy: 0.8080\n",
            "Epoch 25/50\n",
            "1563/1563 [==============================] - 453s 290ms/step - loss: 0.2400 - accuracy: 0.9135 - val_loss: 0.6593 - val_accuracy: 0.8030\n",
            "Epoch 26/50\n",
            "1563/1563 [==============================] - 449s 287ms/step - loss: 0.2279 - accuracy: 0.9192 - val_loss: 0.6712 - val_accuracy: 0.8028\n",
            "Epoch 27/50\n",
            "1563/1563 [==============================] - 450s 288ms/step - loss: 0.2166 - accuracy: 0.9216 - val_loss: 0.6431 - val_accuracy: 0.8075\n",
            "Epoch 28/50\n",
            "1563/1563 [==============================] - 458s 293ms/step - loss: 0.2056 - accuracy: 0.9264 - val_loss: 0.6755 - val_accuracy: 0.8053\n",
            "Epoch 29/50\n",
            "1563/1563 [==============================] - 450s 288ms/step - loss: 0.1943 - accuracy: 0.9300 - val_loss: 0.6756 - val_accuracy: 0.8075\n",
            "Epoch 30/50\n",
            "1563/1563 [==============================] - 450s 288ms/step - loss: 0.1852 - accuracy: 0.9334 - val_loss: 0.6683 - val_accuracy: 0.8118\n",
            "Epoch 31/50\n",
            "1563/1563 [==============================] - 457s 292ms/step - loss: 0.1844 - accuracy: 0.9346 - val_loss: 0.6810 - val_accuracy: 0.8107\n",
            "Epoch 32/50\n",
            "1338/1563 [========================>.....] - ETA: 1:01 - loss: 0.1694 - accuracy: 0.9401"
          ],
          "name": "stdout"
        }
      ]
    },
    {
      "cell_type": "code",
      "metadata": {
        "id": "lUzFZQgudDF8"
      },
      "source": [
        "# Final evaluation of the model \n",
        "scores = model.evaluate(X_test, y_test, verbose=0) \n",
        "print(\"Accuracy: %.2f%%\" % (scores[1]*100))"
      ],
      "execution_count": null,
      "outputs": []
    }
  ]
}